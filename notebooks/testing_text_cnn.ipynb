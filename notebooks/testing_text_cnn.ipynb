{
 "cells": [
  {
   "cell_type": "code",
   "execution_count": 74,
   "metadata": {
    "collapsed": true
   },
   "outputs": [],
   "source": [
    "import os\n",
    "import time\n",
    "import datetime\n",
    "\n",
    "import tensorflow as tf\n",
    "import numpy as np\n",
    "import data_utils as utils\n",
    "\n",
    "from tensorflow.contrib import learn\n",
    "from text_cnn import TextCNN\n",
    "from data_utils import IMDBDataset"
   ]
  },
  {
   "cell_type": "code",
   "execution_count": 2,
   "metadata": {
    "collapsed": false
   },
   "outputs": [
    {
     "name": "stdout",
     "output_type": "stream",
     "text": [
      "Loading Dataset ...\n",
      "Dataset loaded. Preparing data and loading embeddings ...\n",
      "Embeddings loaded. Initialising model hyperparameters ...\n"
     ]
    }
   ],
   "source": [
    "sequence_length = 128\n",
    "num_classes = 2\n",
    "vocab_size = 75099\n",
    "embedding_dim = 300\n",
    "\n",
    "print (\"Loading Dataset ...\")\n",
    "dataset = IMDBDataset('./data/aclImdb/train', './data/vocab.pckl')\n",
    "X, Y = dataset.load()\n",
    "print (\"Dataset loaded. Preparing data and loading embeddings ...\")\n",
    "\n",
    "np.random.seed(10)\n",
    "shuffle_indices = np.random.permutation(np.arange(len(Y)))\n",
    "\n",
    "X_train = X[shuffle_indices]\n",
    "Y_train = Y[shuffle_indices]\n",
    "\n",
    "embedding_path = './data/embeddings.npy'\n",
    "embedding = utils.load_embeddings(embedding_path, vocab_size, embedding_dim)\n",
    "print (\"Embeddings loaded. Initialising model hyperparameters ...\")"
   ]
  },
  {
   "cell_type": "code",
   "execution_count": 3,
   "metadata": {
    "collapsed": false
   },
   "outputs": [
    {
     "data": {
      "text/plain": [
       "(75099, 300)"
      ]
     },
     "execution_count": 3,
     "metadata": {},
     "output_type": "execute_result"
    }
   ],
   "source": [
    "embedding.shape"
   ]
  },
  {
   "cell_type": "code",
   "execution_count": 129,
   "metadata": {
    "collapsed": false
   },
   "outputs": [],
   "source": [
    "class TextCNN(object):\n",
    "    \n",
    "    def __init__(\n",
    "      self, sequence_length, num_classes, vocab_size,\n",
    "      embedding_size, filter_size, num_filters, l2_reg_lambda=0.0):\n",
    "\n",
    "        # Placeholders for input, output and dropout\n",
    "        self.input_x = tf.placeholder(tf.int32, [None, sequence_length], name=\"input_x\")\n",
    "        self.input_y = tf.placeholder(tf.float32, [None, num_classes], name=\"input_y\")\n",
    "        self.dropout_keep_prob = tf.placeholder(tf.float32, name=\"dropout_keep_prob\")\n",
    "\n",
    "        # Keeping track of l2 regularization loss (optional)\n",
    "        l2_loss = tf.constant(0.0)\n",
    "       \n",
    "        # Embedding layer\n",
    "        self.word_embedding = tf.Variable(tf.constant(0.0, shape=[vocab_size, embedding_dim]),\n",
    "                trainable=False, name=\"W\")\n",
    "        self.embedding_placeholder = tf.placeholder(tf.float32, [vocab_size, embedding_dim])\n",
    "        self.embedding_init = self.word_embedding.assign(self.embedding_placeholder)\n",
    "        \n",
    "        with tf.device('/cpu:0'), tf.name_scope(\"embedding\"):            \n",
    "            self.embedded_chars = tf.nn.embedding_lookup(self.word_embedding, self.input_x)\n",
    "            self.embedded_chars_expanded = tf.expand_dims(self.embedded_chars, -1)\n",
    "\n",
    "        print(self.embedded_chars_expanded.get_shape())\n",
    "        # Convolution + maxpool layer\n",
    "        with tf.name_scope(\"conv-maxpool-1\"):\n",
    "            # Convolution Layer\n",
    "            filter_shape = [filter_size, embedding_size, 1, num_filters]\n",
    "            W_1 = tf.Variable(tf.truncated_normal(filter_shape, stddev=0.1), name=\"W_1\")\n",
    "            b_1 = tf.Variable(tf.constant(0.1, shape=[num_filters]), name=\"b_1\")\n",
    "            conv_1 = tf.nn.conv2d(\n",
    "                self.embedded_chars_expanded,\n",
    "                W_1,\n",
    "                strides=[1, 1, 1, 1],\n",
    "                padding=\"VALID\",\n",
    "                name=\"conv_1\")\n",
    "            print(conv_1.get_shape())\n",
    "            \n",
    "            # Apply nonlinearity\n",
    "            h_1 = tf.nn.relu(tf.nn.bias_add(conv_1, b_1), name=\"relu_1\")            \n",
    "            print(h_1.get_shape())\n",
    "            \n",
    "            # Maxpooling over the outputs\n",
    "            self.pooled_1 = tf.nn.max_pool(\n",
    "                h_1,\n",
    "                ksize=[1, sequence_length - filter_size + 1, 1, 1],\n",
    "                strides=[1, 1, 1, 1],\n",
    "                padding='VALID',\n",
    "                name=\"pool_1\")\n",
    "            print(self.pooled_1.get_shape())\n",
    "        \n",
    "        # Flatten into a long feature vector\n",
    "        self.h_pool_flat = tf.reshape(self.pooled_1, [-1, num_filters])\n",
    "        print(self.h_pool_flat.get_shape())\n",
    "        \n",
    "        # Add dropout\n",
    "        with tf.name_scope(\"dropout\"):\n",
    "            self.h_drop = tf.nn.dropout(self.h_pool_flat, self.dropout_keep_prob)\n",
    "        \n",
    "        # Final (unnormalized) scores and predictions\n",
    "        with tf.name_scope(\"output\"):\n",
    "            W = tf.get_variable(\n",
    "                \"W\",\n",
    "                shape=[num_filters, num_classes],\n",
    "                initializer=tf.contrib.layers.xavier_initializer())\n",
    "            b = tf.Variable(tf.constant(0.1, shape=[num_classes]), name=\"b\")\n",
    "            l2_loss += tf.nn.l2_loss(W)\n",
    "            l2_loss += tf.nn.l2_loss(b)\n",
    "            self.scores = tf.nn.xw_plus_b(self.h_drop, W, b, name=\"scores\")\n",
    "            self.predictions = tf.argmax(self.scores, 1, name=\"predictions\")\n",
    "\n",
    "        # CalculateMean cross-entropy loss\n",
    "        with tf.name_scope(\"loss\"):\n",
    "            losses = tf.nn.softmax_cross_entropy_with_logits(logits=self.scores, labels=self.input_y)\n",
    "            self.loss = tf.reduce_mean(losses) + l2_reg_lambda * l2_loss\n",
    "\n",
    "        # Accuracy\n",
    "        with tf.name_scope(\"accuracy\"):\n",
    "            correct_predictions = tf.equal(self.predictions, tf.argmax(self.input_y, 1))\n",
    "            self.accuracy = tf.reduce_mean(tf.cast(correct_predictions, \"float\"), name=\"accuracy\")"
   ]
  },
  {
   "cell_type": "code",
   "execution_count": 130,
   "metadata": {
    "collapsed": true
   },
   "outputs": [],
   "source": [
    "# Model Hyperparameters\n",
    "filter_size = 4\n",
    "num_filters = 128\n",
    "dropout_keep_prob = 0.5\n",
    "l2_reg_lambda = 0.0\n",
    "\n",
    "# Training parameters\n",
    "batch_size = 50\n",
    "num_epochs = 10\n",
    "checkpoint_every = 100\n",
    "num_checkpoints = 6"
   ]
  },
  {
   "cell_type": "code",
   "execution_count": null,
   "metadata": {
    "collapsed": false
   },
   "outputs": [],
   "source": [
    "print(\"Starting training ...\")\n",
    "\n",
    "with tf.Graph().as_default():\n",
    "    session_conf = tf.ConfigProto(\n",
    "      allow_soft_placement=True,\n",
    "      log_device_placement=False)\n",
    "    sess = tf.Session(config=session_conf)\n",
    "    with sess.as_default():\n",
    "        cnn = TextCNN(\n",
    "            sequence_length=sequence_length,\n",
    "            num_classes=num_classes,\n",
    "            vocab_size=vocab_size,\n",
    "            embedding_size=embedding_dim,\n",
    "            filter_size=filter_size,\n",
    "            num_filters=num_filters,\n",
    "            l2_reg_lambda=l2_reg_lambda)\n",
    "\n",
    "        # Define Training procedure\n",
    "        global_step = tf.Variable(0, name=\"global_step\", trainable=False)\n",
    "        optimizer = tf.train.AdamOptimizer(1e-3)\n",
    "        grads_and_vars = optimizer.compute_gradients(cnn.loss)\n",
    "        train_op = optimizer.apply_gradients(grads_and_vars, global_step=global_step)\n",
    "\n",
    "        # Output directory for models and summaries\n",
    "        timestamp = str(int(time.time()))\n",
    "        out_dir = os.path.abspath(os.path.join(os.path.curdir, \"runs\", timestamp))\n",
    "        print(\"Checkpoints and logs will be written into {}\\n\".format(out_dir))\n",
    "\n",
    "        # Creating heckpoint directory\n",
    "        checkpoint_dir = os.path.abspath(os.path.join(out_dir, \"checkpoints\"))\n",
    "        checkpoint_prefix = os.path.join(checkpoint_dir, \"model\")\n",
    "        if not os.path.exists(checkpoint_dir):\n",
    "            os.makedirs(checkpoint_dir)\n",
    "            saver = tf.train.Saver(tf.global_variables(), max_to_keep=num_checkpoints)\n",
    "\n",
    "        \n",
    "        # Initialize all variables\n",
    "        sess.run(tf.global_variables_initializer())\n",
    "        \n",
    "        sess.run(cnn.embedding_init, feed_dict={cnn.embedding_placeholder: embedding})\n",
    "        \n",
    "        def train_step(x_batch, y_batch):\n",
    "            feed_dict = {\n",
    "                cnn.input_x: x_batch,\n",
    "                cnn.input_y: y_batch,\n",
    "                cnn.dropout_keep_prob: dropout_keep_prob\n",
    "            }\n",
    "            _, step, loss, accuracy = sess.run(\n",
    "                [train_op, global_step, cnn.loss, cnn.accuracy],\n",
    "                feed_dict)\n",
    "            time_str = datetime.datetime.now().isoformat()\n",
    "            print(\"{}: step {}, loss {:g}, acc {:g}\".format(time_str, step, loss, accuracy))\n",
    "        \n",
    "        batches = utils.batch_iter(\n",
    "        list(zip(X_train[:1000], Y_train[:1000])), batch_size, num_epochs)\n",
    "        \n",
    "        # Training loop. For each batch...\n",
    "        for batch in batches:\n",
    "            x_batch, y_batch = zip(*batch)\n",
    "            train_step(x_batch, y_batch)\n",
    "            current_step = tf.train.global_step(sess, global_step)\n",
    "            if current_step % checkpoint_every == 0:\n",
    "                path = saver.save(sess, checkpoint_prefix, global_step=current_step)\n",
    "                print(\"Saved model checkpoint to {}\\n\".format(path))"
   ]
  }
 ],
 "metadata": {
  "kernelspec": {
   "display_name": "Python 3",
   "language": "python",
   "name": "python3"
  },
  "language_info": {
   "codemirror_mode": {
    "name": "ipython",
    "version": 3
   },
   "file_extension": ".py",
   "mimetype": "text/x-python",
   "name": "python",
   "nbconvert_exporter": "python",
   "pygments_lexer": "ipython3",
   "version": "3.4.3"
  }
 },
 "nbformat": 4,
 "nbformat_minor": 0
}
